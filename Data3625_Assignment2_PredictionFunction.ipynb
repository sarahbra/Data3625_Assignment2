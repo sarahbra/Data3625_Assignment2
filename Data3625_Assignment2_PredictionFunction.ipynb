{
 "cells": [
  {
   "cell_type": "code",
   "execution_count": 57,
   "id": "f8c416a2",
   "metadata": {},
   "outputs": [],
   "source": [
    "import pandas as pd\n",
    "from datetime import datetime\n",
    "import pickle\n",
    "import numpy as np"
   ]
  },
  {
   "cell_type": "code",
   "execution_count": 58,
   "id": "62de3d6d",
   "metadata": {},
   "outputs": [],
   "source": [
    "def predictTeslaStock(date):\n",
    "    filename = \"tesla_model.txt\"\n",
    "    loaded_model = pickle.load(open(filename, 'rb'))\n",
    "    df = pd.read_csv(\"TSLA.csv\")\n",
    "    date = datetime.strptime(date, \"%d-%m-%Y\")\n",
    "    start_Date = datetime.strptime(\"21-10-2020\", \"%d-%m-%Y\")\n",
    "    delta = date - start_Date\n",
    "    days = delta.days\n",
    "    y_predicted = loaded_model[2].predict([[days]])\n",
    "    y = df[\"Close\"].values\n",
    "    y_real = y[days]\n",
    "    prediction_score = np.sqrt((y_real-y_predicted[0])**2/(y_real)**2)\n",
    "    print(\"Predicted Tesla stock closing value: \" + str(y_predicted[0]))\n",
    "    print(\"Actual Tesla stock closing value: \" + str(y_real))\n",
    "    print(\"Error percentage: \" +str(prediction_score*100) + \"%\")"
   ]
  },
  {
   "cell_type": "code",
   "execution_count": 59,
   "id": "c912fe82",
   "metadata": {},
   "outputs": [
    {
     "name": "stdout",
     "output_type": "stream",
     "text": [
      "Predicted Tesla stock closing value: 637.1825366898624\n",
      "Actual Tesla stock closing value: 755.97998\n",
      "Error percentage: 15.71436366742642%\n"
     ]
    }
   ],
   "source": [
    "predictTeslaStock(\"12-12-2020\")"
   ]
  },
  {
   "cell_type": "code",
   "execution_count": null,
   "id": "1d6445e3",
   "metadata": {},
   "outputs": [],
   "source": []
  }
 ],
 "metadata": {
  "kernelspec": {
   "display_name": "Python 3 (ipykernel)",
   "language": "python",
   "name": "python3"
  },
  "language_info": {
   "codemirror_mode": {
    "name": "ipython",
    "version": 3
   },
   "file_extension": ".py",
   "mimetype": "text/x-python",
   "name": "python",
   "nbconvert_exporter": "python",
   "pygments_lexer": "ipython3",
   "version": "3.8.11"
  }
 },
 "nbformat": 4,
 "nbformat_minor": 5
}
